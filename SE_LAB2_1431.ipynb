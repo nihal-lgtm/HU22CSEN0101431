{
  "nbformat": 4,
  "nbformat_minor": 0,
  "metadata": {
    "colab": {
      "provenance": [],
      "authorship_tag": "ABX9TyM42QFBSEDYF0SSdpKJUnPE",
      "include_colab_link": true
    },
    "kernelspec": {
      "name": "python3",
      "display_name": "Python 3"
    },
    "language_info": {
      "name": "python"
    }
  },
  "cells": [
    {
      "cell_type": "markdown",
      "metadata": {
        "id": "view-in-github",
        "colab_type": "text"
      },
      "source": [
        "<a href=\"https://colab.research.google.com/github/nihal-lgtm/HU22CSEN0101431/blob/main/SE_LAB2_1431.ipynb\" target=\"_parent\"><img src=\"https://colab.research.google.com/assets/colab-badge.svg\" alt=\"Open In Colab\"/></a>"
      ]
    },
    {
      "cell_type": "code",
      "execution_count": 1,
      "metadata": {
        "id": "OYH_q1LE4L80"
      },
      "outputs": [],
      "source": [
        "def temperature_modeling(a, b, c, time):\n",
        "    # Quadratic equation for temperature\n",
        "    return a * time**2 + b * time + c\n"
      ]
    },
    {
      "cell_type": "code",
      "source": [
        "# Hardcoding variable\n",
        "a, b, c = -0.3, 2.5, 15\n",
        "time = 5\n",
        "\n",
        "def temperature_modeling(a, b, c, time):\n",
        "    return a * time**2 + b * time + c\n",
        "    print(\"Hard-coded variables for weather modeling\")\n",
        "    print(f\"Temperature at time {time} hours: {temperature_modeling(a, b, c, time)}°C\")\n"
      ],
      "metadata": {
        "id": "KfV6hdeh42Pd"
      },
      "execution_count": 2,
      "outputs": []
    },
    {
      "cell_type": "code",
      "source": [
        "def temperature_modeling(a, b, c, time):\n",
        "    return a * time**2 + b * time + c\n",
        "\n",
        "# Accepting input from the user\n",
        "a = float(input(\"Enter coefficient a: \"))\n",
        "b = float(input(\"Enter coefficient b: \"))\n",
        "c = float(input(\"Enter coefficient c: \"))\n",
        "time = float(input(\"Enter time (in hours): \"))\n",
        "print(\"\\nVariables entered via keyboard:\")\n",
        "print(f\"Temperature at time {time} hours: {temperature_modeling(a, b, c, time)}°C\")\n"
      ],
      "metadata": {
        "colab": {
          "base_uri": "https://localhost:8080/"
        },
        "id": "u7qVPLzG6OxI",
        "outputId": "cbc06db9-3913-4f9e-b51c-7401b226aa5a"
      },
      "execution_count": 3,
      "outputs": [
        {
          "output_type": "stream",
          "name": "stdout",
          "text": [
            "Enter coefficient a: 0.4\n",
            "Enter coefficient b: 0.5\n",
            "Enter coefficient c: 0.6\n",
            "Enter time (in hours): 4\n",
            "\n",
            "Variables entered via keyboard:\n",
            "Temperature at time 4.0 hours: 9.0°C\n"
          ]
        }
      ]
    },
    {
      "cell_type": "code",
      "source": [
        "with open(\"data.txt\", \"w\") as file:\n",
        "    file.write(\"-5.2,1.8,25,6\\n\")\n",
        "    file.write(\"-3.5,2.4,30,8\\n\")\n",
        "    file.write(\"1.0,-0.5,12,4\\n\")\n",
        "print(\"data.txt created successfully!\")"
      ],
      "metadata": {
        "colab": {
          "base_uri": "https://localhost:8080/"
        },
        "id": "gRvypO5o65Ae",
        "outputId": "de3a37ee-e5c9-4c96-f8eb-837f57c6ea7a"
      },
      "execution_count": 4,
      "outputs": [
        {
          "output_type": "stream",
          "name": "stdout",
          "text": [
            "data.txt created successfully!\n"
          ]
        }
      ]
    },
    {
      "cell_type": "code",
      "source": [
        "def read_from_file(filename):\n",
        "    with open(filename, 'r') as file:\n",
        "        lines = file.readlines()\n",
        "        coefficients = [tuple(map(float, line.strip().split(','))) for line in lines]\n",
        "    return coefficients\n",
        "\n",
        "# Example usage\n",
        "filename = \"data.txt\"\n",
        "coefficients = read_from_file(filename)\n",
        "\n",
        "print(\"Coefficients read from file:\")\n",
        "for coeff in coefficients:\n",
        "    print(coeff)"
      ],
      "metadata": {
        "colab": {
          "base_uri": "https://localhost:8080/"
        },
        "id": "Tpx33Rbx7UnN",
        "outputId": "5eb69e58-a376-46fb-b1d5-fa524b400db9"
      },
      "execution_count": 5,
      "outputs": [
        {
          "output_type": "stream",
          "name": "stdout",
          "text": [
            "Coefficients read from file:\n",
            "(-5.2, 1.8, 25.0, 6.0)\n",
            "(-3.5, 2.4, 30.0, 8.0)\n",
            "(1.0, -0.5, 12.0, 4.0)\n"
          ]
        }
      ]
    },
    {
      "cell_type": "code",
      "source": [
        "def temperature_modeling(a, b, c, time):\n",
        "    return a * time**2 + b * time + c\n",
        "\n",
        "def read_from_file(filename):\n",
        "    with open(filename, 'r') as file:\n",
        "        lines = file.readlines()\n",
        "        coefficients = [tuple(map(float, line.strip().split(','))) for line in lines]\n",
        "    return coefficients\n",
        "    coefficients = read_from_file(\"data.txt\")\n",
        "a, b, c, time = coefficients[0]\n",
        "print(\"Processing a single set of inputs from the file:\")\n",
        "print(f\"Temperature at time {time} hours: {temperature_modeling(a, b, c, time)}°C\")\n"
      ],
      "metadata": {
        "colab": {
          "base_uri": "https://localhost:8080/"
        },
        "id": "XK2Z92mg71rT",
        "outputId": "2d98ee51-91bd-4fae-875c-e8b3898f911c"
      },
      "execution_count": 6,
      "outputs": [
        {
          "output_type": "stream",
          "name": "stdout",
          "text": [
            "Processing a single set of inputs from the file:\n",
            "Temperature at time 6.0 hours: -151.4°C\n"
          ]
        }
      ]
    },
    {
      "cell_type": "code",
      "source": [
        "def temperature_modeling(a, b, c, time):\n",
        "    return a * time**2 + b * time + c\n",
        "\n",
        "def read_from_file(filename):\n",
        "    with open(filename, 'r') as file:\n",
        "        lines = file.readlines()\n",
        "        coefficients = [tuple(map(float, line.strip().split(','))) for line in lines]\n",
        "    return coefficients\n",
        "    coefficients = read_from_file(\"data.txt\")\n",
        "print(\"Processing multiple sets of inputs:\")\n",
        "for idx, (a, b, c, time) in enumerate(coefficients):\n",
        "    temperature = temperature_modeling(a, b, c, time)\n",
        "    print(f\"Set {idx + 1}: Temperature at time {time} hours is {temperature}°C\")\n"
      ],
      "metadata": {
        "colab": {
          "base_uri": "https://localhost:8080/"
        },
        "id": "jBajOXUU8aB9",
        "outputId": "92804781-effa-49c1-c067-0a37ad43de10"
      },
      "execution_count": 7,
      "outputs": [
        {
          "output_type": "stream",
          "name": "stdout",
          "text": [
            "Processing multiple sets of inputs:\n",
            "Set 1: Temperature at time 6.0 hours is -151.4°C\n",
            "Set 2: Temperature at time 8.0 hours is -174.8°C\n",
            "Set 3: Temperature at time 4.0 hours is 26.0°C\n"
          ]
        }
      ]
    }
  ]
}